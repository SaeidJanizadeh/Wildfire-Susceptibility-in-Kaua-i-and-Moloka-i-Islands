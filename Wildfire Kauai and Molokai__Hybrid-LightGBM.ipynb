{
 "cells": [
  {
   "cell_type": "code",
   "execution_count": 2,
   "id": "739ba07d",
   "metadata": {},
   "outputs": [
    {
     "name": "stdout",
     "output_type": "stream",
     "text": [
      "C:\\Users\\Sayed\n"
     ]
    }
   ],
   "source": [
    "import os\n",
    "print(os.getcwd())"
   ]
  },
  {
   "cell_type": "code",
   "execution_count": 3,
   "id": "f389c173",
   "metadata": {},
   "outputs": [],
   "source": [
    "os.chdir(r'C:\\Users\\Sayed\\Desktop\\fire Trang\\Kuai\\New Folder\\layers\\Final')"
   ]
  },
  {
   "cell_type": "code",
   "execution_count": 4,
   "id": "28c29837",
   "metadata": {},
   "outputs": [],
   "source": [
    "import pandas as pd\n",
    "import numpy as np"
   ]
  },
  {
   "cell_type": "code",
   "execution_count": 5,
   "id": "3d25d333",
   "metadata": {},
   "outputs": [],
   "source": [
    "data= pd.read_csv ('wildfiredata.csv')"
   ]
  },
  {
   "cell_type": "code",
   "execution_count": 6,
   "id": "ea943dd2",
   "metadata": {},
   "outputs": [],
   "source": [
    "X = data.iloc[:,:-1]"
   ]
  },
  {
   "cell_type": "code",
   "execution_count": 7,
   "id": "0a2b24c0",
   "metadata": {},
   "outputs": [],
   "source": [
    "Y = data.iloc[:,-1]"
   ]
  },
  {
   "cell_type": "code",
   "execution_count": 8,
   "id": "8649e847",
   "metadata": {},
   "outputs": [],
   "source": [
    "from sklearn.model_selection import train_test_split"
   ]
  },
  {
   "cell_type": "code",
   "execution_count": 9,
   "id": "9a743850",
   "metadata": {},
   "outputs": [],
   "source": [
    "X_train, X_test, y_train, y_test = train_test_split(X, Y, test_size=0.30, random_state=0)"
   ]
  },
  {
   "cell_type": "code",
   "execution_count": 14,
   "id": "5848b4da",
   "metadata": {},
   "outputs": [],
   "source": [
    "import lightgbm as lgb\n"
   ]
  },
  {
   "cell_type": "code",
   "execution_count": 15,
   "id": "9977ce5f",
   "metadata": {},
   "outputs": [],
   "source": [
    "lgbm = lgb.LGBMClassifier()"
   ]
  },
  {
   "cell_type": "code",
   "execution_count": null,
   "id": "e54c16e8",
   "metadata": {},
   "outputs": [],
   "source": [
    "LGBM = lgbm.fit(X_train, y_train)"
   ]
  },
  {
   "cell_type": "code",
   "execution_count": 13,
   "id": "98e950b8",
   "metadata": {},
   "outputs": [],
   "source": [
    "prlgbmtest= LGBM.predict_proba(X_test)[::,1]\n",
    "prlgbmtrain= LGBM.predict_proba(X_train)[::,1]"
   ]
  },
  {
   "cell_type": "code",
   "execution_count": null,
   "id": "ae4d23ee",
   "metadata": {},
   "outputs": [],
   "source": [
    "import sklearn.ensemble\n",
    "import shap\n",
    "shap.initjs()"
   ]
  },
  {
   "cell_type": "code",
   "execution_count": null,
   "id": "bb6f1ce0",
   "metadata": {},
   "outputs": [],
   "source": [
    "##SHAP plot###\n",
    "explainer = shap.Explainer(LGBM, X_train)\n",
    "# Calculates the SHAP values \n",
    "shap_values = explainer(X_train)\n",
    "# Visualiztion\n",
    "shap.summary_plot(shap_values)"
   ]
  },
  {
   "cell_type": "code",
   "execution_count": 17,
   "id": "d715048e",
   "metadata": {},
   "outputs": [],
   "source": [
    "from mealpy import FloatVar, GJO"
   ]
  },
  {
   "cell_type": "code",
   "execution_count": null,
   "id": "5ca19815",
   "metadata": {},
   "outputs": [],
   "source": [
    "##########GJO-LGBM################\n",
    "from mealpy import FloatVar, GJO\n",
    "from sklearn.metrics import log_loss\n",
    "# Define fitness function\n",
    "def fitness_function(solution):\n",
    "    params = {\n",
    "        'n_estimators': int(solution[0]),\n",
    "        'max_depth': int(solution[1]),\n",
    "        'min_child_samples': int(solution[2]),\n",
    "        'learning_rate': solution[3],\n",
    "        'feature_fraction': solution[4],\n",
    "        'reg_alpha': solution[5],\n",
    "        'reg_lambda': solution[6],\n",
    "        'min_child_weight': solution[7],\n",
    "        'num_leaves': int(solution[8]),\n",
    "        'random_state': 42\n",
    "    }\n",
    "    lgb_model = lgb.LGBMClassifier(**params)\n",
    "    lgb_model.fit(X_train, y_train)\n",
    "    y_pred_proba = lgb_model.predict_proba(X_train)[:, 1]\n",
    "    binary_log_loss = log_loss(y_train, y_pred_proba)\n",
    "    return binary_log_loss\n",
    "\n",
    "# Define problem dictionary\n",
    "problem_dict = {\n",
    "    \"bounds\": [FloatVar(lb=10, ub=1000), FloatVar(lb=1, ub=1000), FloatVar(lb=2, ub=20),\n",
    "               FloatVar(lb=0.001, ub=0.1), FloatVar(lb=0.1, ub=1.0),\n",
    "               FloatVar(lb=0, ub=1), FloatVar(lb=0, ub=1),\n",
    "               FloatVar(lb=1e-5, ub=1.0), FloatVar(lb=10, ub=100)],\n",
    "    \"minmax\": \"min\",\n",
    "    \"obj_func\": fitness_function\n",
    "}\n",
    "\n",
    "# Initialize and run GJO\n",
    "epoch = 1000\n",
    "pop_size = 100\n",
    "model_gjo = GJO.OriginalGJO(epoch, pop_size)\n",
    "best_agent = model_gjo.solve(problem_dict)\n",
    "\n",
    "# Extract best hyperparameters from the best position\n",
    "best_params = {\n",
    "    'n_estimators': int(best_agent.solution[0]),\n",
    "    'max_depth': int(best_agent.solution[1]),\n",
    "    'min_child_samples': int(best_agent.solution[2]),\n",
    "    'learning_rate': best_agent.solution[3],\n",
    "    'feature_fraction': best_agent.solution[4],\n",
    "    'reg_alpha': best_agent.solution[5],\n",
    "    'reg_lambda': best_agent.solution[6],\n",
    "    'min_child_weight': best_agent.solution[7],\n",
    "    'num_leaves': int(best_agent.solution[8]),\n",
    "    'random_state': 42\n",
    "}\n",
    "\n",
    "# Train model with best hyperparameters\n",
    "lgb_GJO = lgb.LGBMClassifier(**best_params)\n",
    "lgb_GJO.fit(X_train, y_train)\n",
    "\n",
    "# Predict probabilities on the test set\n",
    "y_pred_proba_test = llgb_GJO.predict_proba(X_test)[:, 1]\n",
    "\n",
    "# Calculate log loss on the test set\n",
    "log_loss_test = log_loss(y_test, y_pred_proba_test)\n",
    "\n",
    "# Print results\n",
    "print(\"Optimum Hyperparameters:\")\n",
    "for key, value in best_params.items():\n",
    "    print(f\"{key}: {value}\")\n",
    "print(f\"Log Loss: {log_loss_test}\")\n"
   ]
  },
  {
   "cell_type": "code",
   "execution_count": 138,
   "id": "2513ead0",
   "metadata": {},
   "outputs": [],
   "source": [
    "GJo_lgbmtest= lgb_GJO.predict_proba(X_test)[::,1]\n",
    "GJo_lgbmtrain= lgb_GJO.predict_proba(X_train)[::,1]"
   ]
  },
  {
   "cell_type": "code",
   "execution_count": null,
   "id": "30627e71",
   "metadata": {},
   "outputs": [],
   "source": [
    "##SHAP plot###\n",
    "explainer = shap.Explainer(lgb_GJO, X_train)\n",
    "# Calculates the SHAP values \n",
    "shap_values = explainer(X_train)\n",
    "# Visualiztion\n",
    "shap.summary_plot(shap_values)"
   ]
  },
  {
   "cell_type": "code",
   "execution_count": null,
   "id": "904ec4d7",
   "metadata": {},
   "outputs": [],
   "source": [
    "#############POA-LGBM#################\n",
    "from mealpy import FloatVar, POA\n",
    "\n",
    "# Define fitness function\n",
    "def fitness_function(solution):\n",
    "    params = {\n",
    "        'n_estimators': int(solution[0]),\n",
    "        'max_depth': int(solution[1]),\n",
    "        'min_child_samples': int(solution[2]),\n",
    "        'learning_rate': solution[3],\n",
    "        'feature_fraction': solution[4],\n",
    "        'reg_alpha': solution[5],\n",
    "        'reg_lambda': solution[6],\n",
    "        'min_child_weight': solution[7],\n",
    "        'num_leaves': int(solution[8]),\n",
    "        'random_state': 42\n",
    "    }\n",
    "    lgb_model = lgb.LGBMClassifier(**params)\n",
    "    lgb_model.fit(X_train, y_train)\n",
    "    y_pred_proba = lgb_model.predict_proba(X_train)[:, 1]\n",
    "    binary_log_loss = log_loss(y_train, y_pred_proba)\n",
    "    return binary_log_loss\n",
    "\n",
    "# Define problem dictionary\n",
    "problem_dict = {\n",
    "    \"bounds\": [FloatVar(lb=10, ub=1000), FloatVar(lb=1, ub=1000), FloatVar(lb=2, ub=20),\n",
    "               FloatVar(lb=0.001, ub=0.1), FloatVar(lb=0.1, ub=1.0),\n",
    "               FloatVar(lb=0, ub=1), FloatVar(lb=0, ub=1),\n",
    "               FloatVar(lb=1e-5, ub=1.0), FloatVar(lb=10, ub=100)],\n",
    "    \"minmax\": \"min\",\n",
    "    \"obj_func\": fitness_function\n",
    "}\n",
    "\n",
    "# Initialize and run POA\n",
    "epoch = 1000\n",
    "pop_size = 100\n",
    "model_poa = POA.OriginalPOA(epoch, pop_size)\n",
    "best_agent = model_poa.solve(problem_dict)\n",
    "\n",
    "# Extract best hyperparameters from the best position\n",
    "best_params = {\n",
    "    'n_estimators': int(best_agent.solution[0]),\n",
    "    'max_depth': int(best_agent.solution[1]),\n",
    "    'min_child_samples': int(best_agent.solution[2]),\n",
    "    'learning_rate': best_agent.solution[3],\n",
    "    'feature_fraction': best_agent.solution[4],\n",
    "    'reg_alpha': best_agent.solution[5],\n",
    "    'reg_lambda': best_agent.solution[6],\n",
    "    'min_child_weight': best_agent.solution[7],\n",
    "    'num_leaves': int(best_agent.solution[8]),\n",
    "    'random_state': 42\n",
    "}\n",
    "\n",
    "# Train model with best hyperparameters\n",
    "lgb_POA = lgb.LGBMClassifier(**best_params)\n",
    "lgb_POA.fit(X_train, y_train)\n",
    "\n",
    "# Predict probabilities on the test set\n",
    "y_pred_proba_test = lgb_POA.predict_proba(X_test)[:, 1]\n",
    "\n",
    "# Calculate log loss on the test set\n",
    "log_loss_test = log_loss(y_test, y_pred_proba_test)\n",
    "\n",
    "# Print results\n",
    "print(\"Optimum Hyperparameters:\")\n",
    "for key, value in best_params.items():\n",
    "    print(f\"{key}: {value}\")\n",
    "print(f\"Log Loss: {log_loss_test}\")"
   ]
  },
  {
   "cell_type": "code",
   "execution_count": null,
   "id": "5202a102",
   "metadata": {},
   "outputs": [],
   "source": [
    "POA_lgbmtest= lgb_POA.predict_proba(X_test)[::,1]\n",
    "POA_lgbmtrain= lgb_POA.predict_proba(X_train)[::,1]"
   ]
  },
  {
   "cell_type": "code",
   "execution_count": null,
   "id": "0e2dbfdf",
   "metadata": {},
   "outputs": [],
   "source": [
    "##SHAP plot###\n",
    "explainer = shap.Explainer(lgb_POA, X_train)\n",
    "# Calculates the SHAP values \n",
    "shap_values = explainer(X_train)\n",
    "# Visualiztion\n",
    "shap.summary_plot(shap_values)"
   ]
  },
  {
   "cell_type": "code",
   "execution_count": null,
   "id": "bed4b756",
   "metadata": {},
   "outputs": [],
   "source": [
    "#############ZOA-LGBM#################\n",
    "\n",
    "from mealpy import FloatVar, ZOA\n",
    "from sklearn.metrics import log_loss\n",
    "import lightgbm as lgb\n",
    "\n",
    "# Define fitness function\n",
    "def fitness_function(solution):\n",
    "    params = {\n",
    "        'n_estimators': int(solution[0]),\n",
    "        'max_depth': int(solution[1]),\n",
    "        'min_child_samples': int(solution[2]),\n",
    "        'learning_rate': solution[3],\n",
    "        'feature_fraction': solution[4],\n",
    "        'reg_alpha': solution[5],\n",
    "        'reg_lambda': solution[6],\n",
    "        'min_child_weight': solution[7],\n",
    "        'num_leaves': int(solution[8]),\n",
    "        'random_state': 42\n",
    "    }\n",
    "    lgb_model = lgb.LGBMClassifier(**params)\n",
    "    lgb_model.fit(X_train, y_train)\n",
    "    y_pred_proba = lgb_model.predict_proba(X_train)[:, 1]\n",
    "    binary_log_loss = log_loss(y_train, y_pred_proba)\n",
    "    return binary_log_loss\n",
    "\n",
    "# Define problem dictionary\n",
    "problem_dict = {\n",
    "    \"bounds\": [FloatVar(lb=10, ub=1000), FloatVar(lb=1, ub=1000), FloatVar(lb=2, ub=20),\n",
    "               FloatVar(lb=0.001, ub=0.1), FloatVar(lb=0.1, ub=1.0),\n",
    "               FloatVar(lb=0, ub=1), FloatVar(lb=0, ub=1),\n",
    "               FloatVar(lb=1e-5, ub=1.0), FloatVar(lb=10, ub=100)],\n",
    "    \"minmax\": \"min\",\n",
    "    \"obj_func\": fitness_function\n",
    "}\n",
    "\n",
    "# Initialize and run ZOA\n",
    "epoch = 1000\n",
    "pop_size = 100\n",
    "model_zoa = ZOA.OriginalZOA(epoch, pop_size)\n",
    "best_agent = model_zoa.solve(problem_dict)\n",
    "\n",
    "# Extract best hyperparameters from the best position\n",
    "best_params = {\n",
    "    'n_estimators': int(best_agent.solution[0]),\n",
    "    'max_depth': int(best_agent.solution[1]),\n",
    "    'min_child_samples': int(best_agent.solution[2]),\n",
    "    'learning_rate': best_agent.solution[3],\n",
    "    'feature_fraction': best_agent.solution[4],\n",
    "    'reg_alpha': best_agent.solution[5],\n",
    "    'reg_lambda': best_agent.solution[6],\n",
    "    'min_child_weight': best_agent.solution[7],\n",
    "    'num_leaves': int(best_agent.solution[8]),\n",
    "    'random_state': 42\n",
    "}\n",
    "\n",
    "# Train model with best hyperparameters\n",
    "lgb_ZOA = lgb.LGBMClassifier(**best_params)\n",
    "lgb_ZOA.fit(X_train, y_train)\n",
    "\n",
    "# Predict probabilities on the test set\n",
    "y_pred_proba_test = lgb_ZOA.predict_proba(X_test)[:, 1]\n",
    "\n",
    "# Calculate log loss on the test set\n",
    "log_loss_test = log_loss(y_test, y_pred_proba_test)\n",
    "\n",
    "# Print results\n",
    "print(\"Optimum Hyperparameters:\")\n",
    "for key, value in best_params.items():\n",
    "    print(f\"{key}: {value}\")\n",
    "print(f\"Log Loss: {log_loss_test}\")\n"
   ]
  },
  {
   "cell_type": "code",
   "execution_count": null,
   "id": "00d1b126",
   "metadata": {},
   "outputs": [],
   "source": [
    "ZOA_lgbmtest= lgb_ZOA.predict_proba(X_test)[::,1]\n",
    "ZOA_lgbmtrain= lgb_ZOA.predict_proba(X_train)[::,1]"
   ]
  },
  {
   "cell_type": "code",
   "execution_count": null,
   "id": "dd0ceb85",
   "metadata": {},
   "outputs": [],
   "source": [
    "##SHAP plot###\n",
    "explainer = shap.Explainer(lgb_ZOA, X_train)\n",
    "# Calculates the SHAP values \n",
    "shap_values = explainer(X_train)\n",
    "# Visualiztion\n",
    "shap.summary_plot(shap_values)"
   ]
  },
  {
   "cell_type": "code",
   "execution_count": null,
   "id": "254f9e1d",
   "metadata": {},
   "outputs": [],
   "source": [
    "####Evaulation of model performance####\n",
    "import numpy as np\n",
    "import pandas as pd\n",
    "from sklearn.metrics import roc_auc_score, confusion_matrix\n",
    "\n",
    "def calculate_metrics(y_true, y_pred_probs, threshold=0.5):\n",
    "    # Convert probabilities to binary predictions based on the threshold\n",
    "    y_pred = (y_pred_probs >= threshold).astype(int)\n",
    "    \n",
    "    # Calculate confusion matrix\n",
    "    tn, fp, fn, tp = confusion_matrix(y_true, y_pred).ravel()\n",
    "    \n",
    "    # Calculate sensitivity (True Positive Rate)\n",
    "    sensitivity = tp / (tp + fn)\n",
    "    \n",
    "    # Calculate specificity (True Negative Rate)\n",
    "    specificity = tn / (tn + fp)\n",
    "    \n",
    "    # Calculate NPV (Negative Predictive Value)\n",
    "    npv = tn / (tn + fn)\n",
    "    \n",
    "    # Calculate PPV (Positive Predictive Value)\n",
    "    ppv = tp / (tp + fp)\n",
    "    \n",
    "    # Calculate AUC (Area Under the Curve)\n",
    "    auc = roc_auc_score(y_true, y_pred_probs)\n",
    "    \n",
    "    return sensitivity, specificity, npv, ppv, auc\n",
    "\n",
    "# Example predictions and probabilities for four models\n",
    "y_true = y_test\n",
    "y_pred_probs_model1 = np.array(prcnntest)\n",
    "y_pred_probs_model2 = np.array(prdbnest)\n",
    "y_pred_probs_model3 = np.array(prrnntest)\n",
    "\n",
    "\n",
    "# List of model names\n",
    "model_names = ['LGBM', 'GJO_LGBM','POA_LGBM','ZOA_LGBM']\n",
    "\n",
    "# Calculate metrics for each model\n",
    "metrics = []\n",
    "for i, y_pred_probs in enumerate([prlgbmtest, GJo_lgbmtest,POA_lgbmtest,ZOA_lgbmtest]):\n",
    "    sensitivity, specificity, npv, ppv, auc = calculate_metrics(y_true, y_pred_probs)\n",
    "    metrics.append([model_names[i], sensitivity, specificity, npv, ppv, auc])\n",
    "\n",
    "# Create a pandas DataFrame to store the metrics\n",
    "metrics_df = pd.DataFrame(metrics, columns=['Model', 'Sensitivity', 'Specificity', 'NPV', 'PPV', 'AUC'])\n",
    "\n",
    "# Export metrics to a CSV file\n",
    "metrics_df.to_csv('Test_metrics.csv', index=False)"
   ]
  },
  {
   "cell_type": "code",
   "execution_count": null,
   "id": "fb936bc4",
   "metadata": {},
   "outputs": [],
   "source": [
    "####ROC AUC curve####\n",
    "fpr, tpr, _ = metrics.roc_curve(y_test, prlgbmtest)\n",
    "auc = round(metrics.roc_auc_score(y_test, prlgbmtest), 4)\n",
    "plt.plot(fpr,tpr,label=\"LightGBM, AUC=\"+str(auc))\n",
    "\n",
    "#fit gradient boosted model and plot ROC curve\n",
    "fpr, tpr, _ = metrics.roc_curve(y_test, GJo_lgbmtest)\n",
    "auc = round(metrics.roc_auc_score(y_test, GJo_lgbmtest), 4)\n",
    "plt.plot(fpr,tpr,label=\"GJ0-LightGBM, AUC=\"+str(auc))\n",
    "\n",
    "#fit gradient boosted model and plot ROC curve\n",
    "fpr, tpr, _ = metrics.roc_curve(y_test, POA_lgbmtest)\n",
    "auc = round(metrics.roc_auc_score(y_test, POA_lgbmtest), 4)\n",
    "plt.plot(fpr,tpr,label=\"POA-LightGBM, AUC=\"+str(auc))\n",
    "#fit gradient boosted model and plot ROC curve\n",
    "fpr, tpr, _ = metrics.roc_curve(y_test, ZOA_lgbmtest)\n",
    "auc = round(metrics.roc_auc_score(y_test, ZOA_lgbmtest), 4)\n",
    "plt.plot(fpr,tpr,label=\"ZOA-LightGBM, AUC=\"+str(auc))\n",
    "#add legend\n",
    "plt.legend()\n",
    "plt.plot([0,1], [0,1], color='gray', linestyle='--')\n",
    "\n",
    "plt.xticks(np.arange(0.0, 1.1, step=0.1))\n",
    "plt.xlabel(\"Flase Positive Rate\", fontsize=11)\n",
    "\n",
    "plt.yticks(np.arange(0.0, 1.1, step=0.1))\n",
    "plt.ylabel(\"True Positive Rate\", fontsize=11)\n",
    "\n",
    "plt.title('Testing ROC Curve Analysis', fontweight='bold', fontsize=11)\n",
    "plt.legend(prop={'size':13}, loc='lower right')\n",
    "plt.rcParams[\"font.family\"]=\"Times New Roman\"\n",
    "plt.savefig('ROCplt.png',dpi=500)"
   ]
  }
 ],
 "metadata": {
  "kernelspec": {
   "display_name": "Python 3 (ipykernel)",
   "language": "python",
   "name": "python3"
  },
  "language_info": {
   "codemirror_mode": {
    "name": "ipython",
    "version": 3
   },
   "file_extension": ".py",
   "mimetype": "text/x-python",
   "name": "python",
   "nbconvert_exporter": "python",
   "pygments_lexer": "ipython3",
   "version": "3.10.10"
  }
 },
 "nbformat": 4,
 "nbformat_minor": 5
}
